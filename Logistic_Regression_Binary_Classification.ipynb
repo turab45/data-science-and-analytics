{
  "cells": [
    {
      "cell_type": "code",
      "execution_count": null,
      "metadata": {
        "id": "flLMOeomZqjp"
      },
      "outputs": [],
      "source": [
        "# Import Packages, Function and Classes\n",
        "\n",
        "import matplotlib.pyplot as plt\n",
        "import pandas as pd\n",
        "import numpy as np\n",
        "from sklearn.linear_model import LogisticRegression\n",
        "from sklearn.model_selection import train_test_split\n",
        "from sklearn.datasets import load_breast_cancer\n",
        "from sklearn.metrics import classification_report, confusion_matrix"
      ]
    },
    {
      "cell_type": "code",
      "execution_count": null,
      "metadata": {
        "id": "7FQSM1azZqjr",
        "outputId": "8e0ca684-d870-4f90-87f5-c5a38112d77a"
      },
      "outputs": [
        {
          "name": "stdout",
          "output_type": "stream",
          "text": [
            "{'data': array([[1.799e+01, 1.038e+01, 1.228e+02, ..., 2.654e-01, 4.601e-01,\n",
            "        1.189e-01],\n",
            "       [2.057e+01, 1.777e+01, 1.329e+02, ..., 1.860e-01, 2.750e-01,\n",
            "        8.902e-02],\n",
            "       [1.969e+01, 2.125e+01, 1.300e+02, ..., 2.430e-01, 3.613e-01,\n",
            "        8.758e-02],\n",
            "       ...,\n",
            "       [1.660e+01, 2.808e+01, 1.083e+02, ..., 1.418e-01, 2.218e-01,\n",
            "        7.820e-02],\n",
            "       [2.060e+01, 2.933e+01, 1.401e+02, ..., 2.650e-01, 4.087e-01,\n",
            "        1.240e-01],\n",
            "       [7.760e+00, 2.454e+01, 4.792e+01, ..., 0.000e+00, 2.871e-01,\n",
            "        7.039e-02]]), 'target': array([0, 0, 0, 0, 0, 0, 0, 0, 0, 0, 0, 0, 0, 0, 0, 0, 0, 0, 0, 1, 1, 1,\n",
            "       0, 0, 0, 0, 0, 0, 0, 0, 0, 0, 0, 0, 0, 0, 0, 1, 0, 0, 0, 0, 0, 0,\n",
            "       0, 0, 1, 0, 1, 1, 1, 1, 1, 0, 0, 1, 0, 0, 1, 1, 1, 1, 0, 1, 0, 0,\n",
            "       1, 1, 1, 1, 0, 1, 0, 0, 1, 0, 1, 0, 0, 1, 1, 1, 0, 0, 1, 0, 0, 0,\n",
            "       1, 1, 1, 0, 1, 1, 0, 0, 1, 1, 1, 0, 0, 1, 1, 1, 1, 0, 1, 1, 0, 1,\n",
            "       1, 1, 1, 1, 1, 1, 1, 0, 0, 0, 1, 0, 0, 1, 1, 1, 0, 0, 1, 0, 1, 0,\n",
            "       0, 1, 0, 0, 1, 1, 0, 1, 1, 0, 1, 1, 1, 1, 0, 1, 1, 1, 1, 1, 1, 1,\n",
            "       1, 1, 0, 1, 1, 1, 1, 0, 0, 1, 0, 1, 1, 0, 0, 1, 1, 0, 0, 1, 1, 1,\n",
            "       1, 0, 1, 1, 0, 0, 0, 1, 0, 1, 0, 1, 1, 1, 0, 1, 1, 0, 0, 1, 0, 0,\n",
            "       0, 0, 1, 0, 0, 0, 1, 0, 1, 0, 1, 1, 0, 1, 0, 0, 0, 0, 1, 1, 0, 0,\n",
            "       1, 1, 1, 0, 1, 1, 1, 1, 1, 0, 0, 1, 1, 0, 1, 1, 0, 0, 1, 0, 1, 1,\n",
            "       1, 1, 0, 1, 1, 1, 1, 1, 0, 1, 0, 0, 0, 0, 0, 0, 0, 0, 0, 0, 0, 0,\n",
            "       0, 0, 1, 1, 1, 1, 1, 1, 0, 1, 0, 1, 1, 0, 1, 1, 0, 1, 0, 0, 1, 1,\n",
            "       1, 1, 1, 1, 1, 1, 1, 1, 1, 1, 1, 0, 1, 1, 0, 1, 0, 1, 1, 1, 1, 1,\n",
            "       1, 1, 1, 1, 1, 1, 1, 1, 1, 0, 1, 1, 1, 0, 1, 0, 1, 1, 1, 1, 0, 0,\n",
            "       0, 1, 1, 1, 1, 0, 1, 0, 1, 0, 1, 1, 1, 0, 1, 1, 1, 1, 1, 1, 1, 0,\n",
            "       0, 0, 1, 1, 1, 1, 1, 1, 1, 1, 1, 1, 1, 0, 0, 1, 0, 0, 0, 1, 0, 0,\n",
            "       1, 1, 1, 1, 1, 0, 1, 1, 1, 1, 1, 0, 1, 1, 1, 0, 1, 1, 0, 0, 1, 1,\n",
            "       1, 1, 1, 1, 0, 1, 1, 1, 1, 1, 1, 1, 0, 1, 1, 1, 1, 1, 0, 1, 1, 0,\n",
            "       1, 1, 1, 1, 1, 1, 1, 1, 1, 1, 1, 1, 0, 1, 0, 0, 1, 0, 1, 1, 1, 1,\n",
            "       1, 0, 1, 1, 0, 1, 0, 1, 1, 0, 1, 0, 1, 1, 1, 1, 1, 1, 1, 1, 0, 0,\n",
            "       1, 1, 1, 1, 1, 1, 0, 1, 1, 1, 1, 1, 1, 1, 1, 1, 1, 0, 1, 1, 1, 1,\n",
            "       1, 1, 1, 0, 1, 0, 1, 1, 0, 1, 1, 1, 1, 1, 0, 0, 1, 0, 1, 0, 1, 1,\n",
            "       1, 1, 1, 0, 1, 1, 0, 1, 0, 1, 0, 0, 1, 1, 1, 0, 1, 1, 1, 1, 1, 1,\n",
            "       1, 1, 1, 1, 1, 0, 1, 0, 0, 1, 1, 1, 1, 1, 1, 1, 1, 1, 1, 1, 1, 1,\n",
            "       1, 1, 1, 1, 1, 1, 1, 1, 1, 1, 1, 1, 0, 0, 0, 0, 0, 0, 1]), 'frame': None, 'target_names': array(['malignant', 'benign'], dtype='<U9'), 'DESCR': '.. _breast_cancer_dataset:\\n\\nBreast cancer wisconsin (diagnostic) dataset\\n--------------------------------------------\\n\\n**Data Set Characteristics:**\\n\\n    :Number of Instances: 569\\n\\n    :Number of Attributes: 30 numeric, predictive attributes and the class\\n\\n    :Attribute Information:\\n        - radius (mean of distances from center to points on the perimeter)\\n        - texture (standard deviation of gray-scale values)\\n        - perimeter\\n        - area\\n        - smoothness (local variation in radius lengths)\\n        - compactness (perimeter^2 / area - 1.0)\\n        - concavity (severity of concave portions of the contour)\\n        - concave points (number of concave portions of the contour)\\n        - symmetry\\n        - fractal dimension (\"coastline approximation\" - 1)\\n\\n        The mean, standard error, and \"worst\" or largest (mean of the three\\n        worst/largest values) of these features were computed for each image,\\n        resulting in 30 features.  For instance, field 0 is Mean Radius, field\\n        10 is Radius SE, field 20 is Worst Radius.\\n\\n        - class:\\n                - WDBC-Malignant\\n                - WDBC-Benign\\n\\n    :Summary Statistics:\\n\\n    ===================================== ====== ======\\n                                           Min    Max\\n    ===================================== ====== ======\\n    radius (mean):                        6.981  28.11\\n    texture (mean):                       9.71   39.28\\n    perimeter (mean):                     43.79  188.5\\n    area (mean):                          143.5  2501.0\\n    smoothness (mean):                    0.053  0.163\\n    compactness (mean):                   0.019  0.345\\n    concavity (mean):                     0.0    0.427\\n    concave points (mean):                0.0    0.201\\n    symmetry (mean):                      0.106  0.304\\n    fractal dimension (mean):             0.05   0.097\\n    radius (standard error):              0.112  2.873\\n    texture (standard error):             0.36   4.885\\n    perimeter (standard error):           0.757  21.98\\n    area (standard error):                6.802  542.2\\n    smoothness (standard error):          0.002  0.031\\n    compactness (standard error):         0.002  0.135\\n    concavity (standard error):           0.0    0.396\\n    concave points (standard error):      0.0    0.053\\n    symmetry (standard error):            0.008  0.079\\n    fractal dimension (standard error):   0.001  0.03\\n    radius (worst):                       7.93   36.04\\n    texture (worst):                      12.02  49.54\\n    perimeter (worst):                    50.41  251.2\\n    area (worst):                         185.2  4254.0\\n    smoothness (worst):                   0.071  0.223\\n    compactness (worst):                  0.027  1.058\\n    concavity (worst):                    0.0    1.252\\n    concave points (worst):               0.0    0.291\\n    symmetry (worst):                     0.156  0.664\\n    fractal dimension (worst):            0.055  0.208\\n    ===================================== ====== ======\\n\\n    :Missing Attribute Values: None\\n\\n    :Class Distribution: 212 - Malignant, 357 - Benign\\n\\n    :Creator:  Dr. William H. Wolberg, W. Nick Street, Olvi L. Mangasarian\\n\\n    :Donor: Nick Street\\n\\n    :Date: November, 1995\\n\\nThis is a copy of UCI ML Breast Cancer Wisconsin (Diagnostic) datasets.\\nhttps://goo.gl/U2Uwz2\\n\\nFeatures are computed from a digitized image of a fine needle\\naspirate (FNA) of a breast mass.  They describe\\ncharacteristics of the cell nuclei present in the image.\\n\\nSeparating plane described above was obtained using\\nMultisurface Method-Tree (MSM-T) [K. P. Bennett, \"Decision Tree\\nConstruction Via Linear Programming.\" Proceedings of the 4th\\nMidwest Artificial Intelligence and Cognitive Science Society,\\npp. 97-101, 1992], a classification method which uses linear\\nprogramming to construct a decision tree.  Relevant features\\nwere selected using an exhaustive search in the space of 1-4\\nfeatures and 1-3 separating planes.\\n\\nThe actual linear program used to obtain the separating plane\\nin the 3-dimensional space is that described in:\\n[K. P. Bennett and O. L. Mangasarian: \"Robust Linear\\nProgramming Discrimination of Two Linearly Inseparable Sets\",\\nOptimization Methods and Software 1, 1992, 23-34].\\n\\nThis database is also available through the UW CS ftp server:\\n\\nftp ftp.cs.wisc.edu\\ncd math-prog/cpo-dataset/machine-learn/WDBC/\\n\\n.. topic:: References\\n\\n   - W.N. Street, W.H. Wolberg and O.L. Mangasarian. Nuclear feature extraction \\n     for breast tumor diagnosis. IS&T/SPIE 1993 International Symposium on \\n     Electronic Imaging: Science and Technology, volume 1905, pages 861-870,\\n     San Jose, CA, 1993.\\n   - O.L. Mangasarian, W.N. Street and W.H. Wolberg. Breast cancer diagnosis and \\n     prognosis via linear programming. Operations Research, 43(4), pages 570-577, \\n     July-August 1995.\\n   - W.H. Wolberg, W.N. Street, and O.L. Mangasarian. Machine learning techniques\\n     to diagnose breast cancer from fine-needle aspirates. Cancer Letters 77 (1994) \\n     163-171.', 'feature_names': array(['mean radius', 'mean texture', 'mean perimeter', 'mean area',\n",
            "       'mean smoothness', 'mean compactness', 'mean concavity',\n",
            "       'mean concave points', 'mean symmetry', 'mean fractal dimension',\n",
            "       'radius error', 'texture error', 'perimeter error', 'area error',\n",
            "       'smoothness error', 'compactness error', 'concavity error',\n",
            "       'concave points error', 'symmetry error',\n",
            "       'fractal dimension error', 'worst radius', 'worst texture',\n",
            "       'worst perimeter', 'worst area', 'worst smoothness',\n",
            "       'worst compactness', 'worst concavity', 'worst concave points',\n",
            "       'worst symmetry', 'worst fractal dimension'], dtype='<U23'), 'filename': 'C:\\\\Users\\\\Om Prakash\\\\anaconda3\\\\lib\\\\site-packages\\\\sklearn\\\\datasets\\\\data\\\\breast_cancer.csv'}\n"
          ]
        }
      ],
      "source": [
        "# Read the Cancer Dataset file\n",
        "\n",
        "cancer = load_breast_cancer()\n",
        "print(cancer)"
      ]
    },
    {
      "cell_type": "code",
      "execution_count": null,
      "metadata": {
        "id": "G6CiONuuZqjt"
      },
      "outputs": [],
      "source": [
        "# Divide the data into\"Attributes\" and \"labels\"\n",
        "\n",
        "x_data = cancer.data[:,:1] # mean radius\n",
        "labels = cancer.target"
      ]
    },
    {
      "cell_type": "code",
      "execution_count": null,
      "metadata": {
        "id": "RCq4vOt6Zqju"
      },
      "outputs": [],
      "source": [
        "# Split 80% of the data to the training set while 20% of the data to test set\n",
        "\n",
        "X_train, X_test, y_train, y_test = train_test_split(x_data, labels, test_size=0.2, random_state=0)"
      ]
    },
    {
      "cell_type": "code",
      "execution_count": null,
      "metadata": {
        "id": "8FO9WWh4Zqjv"
      },
      "outputs": [],
      "source": [
        "# Create a Model and Train it\n",
        "\n",
        "model = LogisticRegression(solver='liblinear', random_state=0)\n",
        "H = model.fit(X_train, y_train)\n",
        "\n",
        "# model = LogisticRegression(solver='liblinear', random_state=0).fit(X_train, y_train)"
      ]
    },
    {
      "cell_type": "code",
      "execution_count": null,
      "metadata": {
        "id": "DyLexZTOZqjw",
        "outputId": "258145c4-d1e5-44cc-c073-e572c61e8c11"
      },
      "outputs": [
        {
          "name": "stdout",
          "output_type": "stream",
          "text": [
            "Logistic Regression Model Coeff (m) = [[-0.49524206]]\n",
            "Logistic Regression Model Coeff (b) = [7.54061572]\n"
          ]
        }
      ],
      "source": [
        "# Getting Results\n",
        "\n",
        "print('Logistic Regression Model Coeff (m) =' , model.coef_)\n",
        "print('Logistic Regression Model Coeff (b) =' , model.intercept_)"
      ]
    },
    {
      "cell_type": "code",
      "execution_count": null,
      "metadata": {
        "id": "NEWfC2VjZqjx",
        "outputId": "0e3b6403-def4-4895-d2fe-10fa5b2a5109"
      },
      "outputs": [
        {
          "name": "stdout",
          "output_type": "stream",
          "text": [
            "[1 1 1 1 1 1 1 1 1 1 1 1 1 0 1 0 1 0 0 0 1 0 1 1 0 1 1 1 1 0 1 0 1 0 1 1 1\n",
            " 0 1 1 1 1 0 1 1 0 1 1 1 1 0 1 0 1 1 1 1 1 1 0 1 0 1 1 0 1 0 0 0 1 1 0 1 1\n",
            " 0 1 1 1 1 1 0 0 0 1 0 1 1 1 0 0 1 1 1 1 1 1 0 1 1 1 1 1 1 1 0 1 0 1 0 0 1\n",
            " 0 0 1]\n"
          ]
        }
      ],
      "source": [
        "# Predicting the data\n",
        "\n",
        "y_predict=model.predict(X_test)\n",
        "print(y_predict)"
      ]
    },
    {
      "cell_type": "code",
      "execution_count": null,
      "metadata": {
        "id": "i3fabLWGZqjy",
        "outputId": "62711ab3-0c2e-41e9-9809-97e4313afed6"
      },
      "outputs": [
        {
          "data": {
            "text/plain": [
              "Text(0.5, 1.0, 'Logistic Regression Model')"
            ]
          },
          "execution_count": 8,
          "metadata": {},
          "output_type": "execute_result"
        },
        {
          "data": {
            "image/png": "[encoded data removed]",
            "text/plain": [
              "<Figure size 432x288 with 1 Axes>"
            ]
          },
          "metadata": {
            "needs_background": "light"
          },
          "output_type": "display_data"
        }
      ],
      "source": [
        "# Scatter plot for Logistic Regression Model\n",
        "\n",
        "colors = {0:'red', 1:'blue'}\n",
        "def sigmoid(x):\n",
        "    return (1 / (1 +np.exp(-(model.intercept_[0] +(model.coef_[0][0] * x)))))\n",
        "x1 = np.arange(np.min(X_train), np.max(X_train), 0.01)\n",
        "y1 = [sigmoid(n) for n in x1]\n",
        "plt.scatter(X_train,y_train,facecolors='none',edgecolors=pd.DataFrame(cancer.target)[0].apply(lambda X_train:colors[X_train]),cmap=colors)\n",
        "plt.plot(x1,y1)\n",
        "plt.xlabel(\"Mean Radius\")\n",
        "plt.ylabel(\"Probability\")\n",
        "plt.title('Logistic Regression Model')"
      ]
    },
    {
      "cell_type": "code",
      "execution_count": null,
      "metadata": {
        "id": "BzUlWzm1Zqjz",
        "outputId": "40051511-a922-447b-8da6-115209bef742"
      },
      "outputs": [
        {
          "name": "stdout",
          "output_type": "stream",
          "text": [
            "\n",
            "Prediction Probability : \n",
            " [[0.28815287 0.71184713]\n",
            " [0.26924273 0.73075727]\n",
            " [0.35495662 0.64504338]\n",
            " [0.38261492 0.61738508]\n",
            " [0.25206829 0.74793171]\n",
            " [0.12735274 0.87264726]\n",
            " [0.17179642 0.82820358]\n",
            " [0.14851656 0.85148344]\n",
            " [0.02382539 0.97617461]\n",
            " [0.07875153 0.92124847]\n",
            " [0.43400977 0.56599023]\n",
            " [0.42551428 0.57448572]\n",
            " [0.05280865 0.94719135]\n",
            " [0.6898163  0.3101837 ]\n",
            " [0.4279373  0.5720627 ]\n",
            " [0.52892432 0.47107568]\n",
            " [0.04467502 0.95532498]\n",
            " [0.93193494 0.06806506]\n",
            " [0.89485926 0.10514074]\n",
            " [0.94426261 0.05573739]\n",
            " [0.1574998  0.8425002 ]\n",
            " [0.62295633 0.37704367]\n",
            " [0.29531567 0.70468433]\n",
            " [0.1574998  0.8425002 ]\n",
            " [0.95446663 0.04553337]\n",
            " [0.16350487 0.83649513]\n",
            " [0.10503629 0.89496371]\n",
            " [0.32279815 0.67720185]\n",
            " [0.28815287 0.71184713]\n",
            " [0.85259212 0.14740788]\n",
            " [0.23208687 0.76791313]\n",
            " [0.93379578 0.06620422]\n",
            " [0.26247677 0.73752323]\n",
            " [0.61360614 0.38639386]\n",
            " [0.06192253 0.93807747]\n",
            " [0.22081103 0.77918897]\n",
            " [0.27512902 0.72487098]\n",
            " [0.86634062 0.13365938]\n",
            " [0.45479412 0.54520588]\n",
            " [0.48191654 0.51808346]\n",
            " [0.48810143 0.51189857]\n",
            " [0.04133403 0.95866597]\n",
            " [0.59704369 0.40295631]\n",
            " [0.08093447 0.91906553]\n",
            " [0.27217591 0.72782409]\n",
            " [0.95838557 0.04161443]\n",
            " [0.03745748 0.96254252]\n",
            " [0.35609135 0.64390865]\n",
            " [0.15553836 0.84446164]\n",
            " [0.41585901 0.58414099]\n",
            " [0.87579239 0.12420761]\n",
            " [0.45479412 0.54520588]\n",
            " [0.8315427  0.1684573 ]\n",
            " [0.14236215 0.85763785]\n",
            " [0.20263607 0.79736393]\n",
            " [0.134681   0.865319  ]\n",
            " [0.12625603 0.87374397]\n",
            " [0.18785697 0.81214303]\n",
            " [0.18115121 0.81884879]\n",
            " [0.96198065 0.03801935]\n",
            " [0.32714365 0.67285635]\n",
            " [0.60298644 0.39701356]\n",
            " [0.11674528 0.88325472]\n",
            " [0.23742477 0.76257523]\n",
            " [0.76416379 0.23583621]\n",
            " [0.17109292 0.82890708]\n",
            " [0.97035663 0.02964337]\n",
            " [0.75144068 0.24855932]\n",
            " [0.93410129 0.06589871]\n",
            " [0.05451874 0.94548126]\n",
            " [0.40149852 0.59850148]\n",
            " [0.61007769 0.38992231]\n",
            " [0.13759302 0.86240698]\n",
            " [0.42309483 0.57690517]\n",
            " [0.84496559 0.15503441]\n",
            " [0.24927759 0.75072241]\n",
            " [0.03571225 0.96428775]\n",
            " [0.25394023 0.74605977]\n",
            " [0.14602885 0.85397115]\n",
            " [0.03859877 0.96140123]\n",
            " [0.66382854 0.33617146]\n",
            " [0.92080748 0.07919252]\n",
            " [0.56814924 0.43185076]\n",
            " [0.20024611 0.79975389]\n",
            " [0.59823458 0.40176542]\n",
            " [0.19166408 0.80833592]\n",
            " [0.2984169  0.7015831 ]\n",
            " [0.02983998 0.97016002]\n",
            " [0.72563651 0.27436349]\n",
            " [0.93470838 0.06529162]\n",
            " [0.05552294 0.94447706]\n",
            " [0.4868641  0.5131359 ]\n",
            " [0.47079898 0.52920102]\n",
            " [0.49924213 0.50075787]\n",
            " [0.05300718 0.94699282]\n",
            " [0.06601335 0.93398665]\n",
            " [0.53385718 0.46614282]\n",
            " [0.23922275 0.76077725]\n",
            " [0.14055777 0.85944223]\n",
            " [0.132389   0.867611  ]\n",
            " [0.04153071 0.95846929]\n",
            " [0.19475193 0.80524807]\n",
            " [0.46833194 0.53166806]\n",
            " [0.35836566 0.64163434]\n",
            " [0.8322353  0.1677647 ]\n",
            " [0.04970286 0.95029714]\n",
            " [0.79070325 0.20929675]\n",
            " [0.23832259 0.76167741]\n",
            " [0.54738559 0.45261441]\n",
            " [0.74772227 0.25227773]\n",
            " [0.22683328 0.77316672]\n",
            " [0.92080748 0.07919252]\n",
            " [0.82160602 0.17839398]\n",
            " [0.47697253 0.52302747]]\n",
            "\n",
            "Prediction :  [1 1 1 1 1 1 1 1 1 1 1 1 1 0 1 0 1 0 0 0 1 0 1 1 0 1 1 1 1 0 1 0 1 0 1 1 1\n",
            " 0 1 1 1 1 0 1 1 0 1 1 1 1 0 1 0 1 1 1 1 1 1 0 1 0 1 1 0 1 0 0 0 1 1 0 1 1\n",
            " 0 1 1 1 1 1 0 0 0 1 0 1 1 1 0 0 1 1 1 1 1 1 0 1 1 1 1 1 1 1 0 1 0 1 0 0 1\n",
            " 0 0 1]\n",
            "\n",
            "Score :  0.8859649122807017\n"
          ]
        }
      ],
      "source": [
        "# Evaluate the Model\n",
        "\n",
        "print(\"\\nPrediction Probability : \\n\",model.predict_proba(X_test))\n",
        "\n",
        "print(\"\\nPrediction : \",model.predict(X_test))\n",
        "\n",
        "print(\"\\nScore : \",model.score(X_test, y_test))"
      ]
    },
    {
      "cell_type": "code",
      "execution_count": null,
      "metadata": {
        "id": "EDXZd0MrZqj1",
        "outputId": "cd53f20b-255f-436f-9425-24498abfaf6b"
      },
      "outputs": [
        {
          "name": "stdout",
          "output_type": "stream",
          "text": [
            "\n",
            "Confusion Matrix : \n",
            " [[35 12]\n",
            " [ 1 66]]\n"
          ]
        }
      ],
      "source": [
        "# Print Confusion Matrix\n",
        "\n",
        "print(\"\\nConfusion Matrix : \\n\",confusion_matrix(y_test, model.predict(X_test)))"
      ]
    },
    {
      "cell_type": "code",
      "execution_count": null,
      "metadata": {
        "id": "EH1OdrERZqj1",
        "outputId": "c321ccbb-31c7-4da5-d4d0-91ea9839f433"
      },
      "outputs": [
        {
          "data": {
            "image/png": "[encoded data removed]",
            "text/plain": [
              "<Figure size 720x504 with 2 Axes>"
            ]
          },
          "metadata": {
            "needs_background": "light"
          },
          "output_type": "display_data"
        }
      ],
      "source": [
        "# Plot Confusion Matrix \n",
        "\n",
        "cm = confusion_matrix(y_test, model.predict(X_test))\n",
        "\n",
        "import seaborn as sn\n",
        "import pandas as pd\n",
        "\n",
        "df_cm = pd.DataFrame(cm, range(2), range(2))\n",
        "plt.figure(figsize=(10,7))\n",
        "sn.set(font_scale=1.4) # for label size\n",
        "sn.heatmap(df_cm, annot=True, annot_kws={\"size\": 16}) # font size\n",
        "\n",
        "plt.show()\n"
      ]
    },
    {
      "cell_type": "code",
      "execution_count": null,
      "metadata": {
        "id": "k8SPPlljZqj2",
        "outputId": "24ccd750-a831-4171-f634-51c984e91c6d"
      },
      "outputs": [
        {
          "name": "stdout",
          "output_type": "stream",
          "text": [
            "              precision    recall  f1-score   support\n",
            "\n",
            "           0       0.97      0.74      0.84        47\n",
            "           1       0.85      0.99      0.91        67\n",
            "\n",
            "    accuracy                           0.89       114\n",
            "   macro avg       0.91      0.86      0.88       114\n",
            "weighted avg       0.90      0.89      0.88       114\n",
            "\n"
          ]
        }
      ],
      "source": [
        "# Print Classification Report\n",
        "\n",
        "print(classification_report(y_test, model.predict(X_test)))"
      ]
    }
  ],
  "metadata": {
    "kernelspec": {
      "display_name": "Python 3",
      "language": "python",
      "name": "python3"
    },
    "language_info": {
      "codemirror_mode": {
        "name": "ipython",
        "version": 3
      },
      "file_extension": ".py",
      "mimetype": "text/x-python",
      "name": "python",
      "nbconvert_exporter": "python",
      "pygments_lexer": "ipython3",
      "version": "3.8.3"
    },
    "colab": {
      "name": "Logistic Regression Binary Classification.ipynb",
      "provenance": []
    }
  },
  "nbformat": 4,
  "nbformat_minor": 0
}